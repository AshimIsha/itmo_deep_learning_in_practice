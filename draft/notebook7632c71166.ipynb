{
 "cells": [
  {
   "cell_type": "code",
   "execution_count": null,
   "metadata": {
    "_cell_guid": "b1076dfc-b9ad-4769-8c92-a6c4dae69d19",
    "_uuid": "8f2839f25d086af736a60e9eeb907d3b93b6e0e5"
   },
   "outputs": [],
   "source": [
    "# This Python 3 environment comes with many helpful analytics libraries installed\n",
    "# It is defined by the kaggle/python Docker image: https://github.com/kaggle/docker-python\n",
    "# For example, here's several helpful packages to load\n",
    "\n",
    "import numpy as np # linear algebra\n",
    "import pandas as pd # data processing, CSV file I/O (e.g. pd.read_csv)\n",
    "\n",
    "# Input data files are available in the read-only \"../input/\" directory\n",
    "# For example, running this (by clicking run or pressing Shift+Enter) will list all files under the input directory\n",
    "\n",
    "import os\n",
    "for dirname, _, filenames in os.walk('/kaggle/input'):\n",
    "    for filename in filenames:\n",
    "        print(os.path.join(dirname, filename))\n",
    "\n",
    "# You can write up to 20GB to the current directory (/kaggle/working/) that gets preserved as output when you create a version using \"Save & Run All\" \n",
    "# You can also write temporary files to /kaggle/temp/, but they won't be saved outside of the current session"
   ]
  },
  {
   "cell_type": "code",
   "execution_count": 130,
   "metadata": {
    "execution": {
     "iopub.execute_input": "2023-11-14T12:26:49.029012Z",
     "iopub.status.busy": "2023-11-14T12:26:49.028156Z",
     "iopub.status.idle": "2023-11-14T12:26:49.033444Z",
     "shell.execute_reply": "2023-11-14T12:26:49.032452Z",
     "shell.execute_reply.started": "2023-11-14T12:26:49.028978Z"
    }
   },
   "outputs": [],
   "source": [
    "import pandas as pd\n",
    "from tqdm.notebook import tqdm\n",
    "import os\n",
    "from shutil import copyfile, move, copy\n",
    "import sys\n",
    "import json"
   ]
  },
  {
   "cell_type": "code",
   "execution_count": 20,
   "metadata": {
    "execution": {
     "iopub.execute_input": "2023-11-14T11:16:40.871160Z",
     "iopub.status.busy": "2023-11-14T11:16:40.870761Z",
     "iopub.status.idle": "2023-11-14T11:16:53.339094Z",
     "shell.execute_reply": "2023-11-14T11:16:53.337985Z",
     "shell.execute_reply.started": "2023-11-14T11:16:40.871128Z"
    }
   },
   "outputs": [
    {
     "name": "stdout",
     "output_type": "stream",
     "text": [
      "Requirement already satisfied: gitpython in /opt/conda/lib/python3.10/site-packages (3.1.32)\n",
      "Requirement already satisfied: gitdb<5,>=4.0.1 in /opt/conda/lib/python3.10/site-packages (from gitpython) (4.0.10)\n",
      "Requirement already satisfied: smmap<6,>=3.0.1 in /opt/conda/lib/python3.10/site-packages (from gitdb<5,>=4.0.1->gitpython) (5.0.0)\n"
     ]
    }
   ],
   "source": [
    "!pip install gitpython"
   ]
  },
  {
   "cell_type": "code",
   "execution_count": 105,
   "metadata": {
    "execution": {
     "iopub.execute_input": "2023-11-14T12:08:22.443448Z",
     "iopub.status.busy": "2023-11-14T12:08:22.442688Z",
     "iopub.status.idle": "2023-11-14T12:08:23.386944Z",
     "shell.execute_reply": "2023-11-14T12:08:23.385858Z",
     "shell.execute_reply.started": "2023-11-14T12:08:22.443417Z"
    }
   },
   "outputs": [
    {
     "name": "stdout",
     "output_type": "stream",
     "text": [
      "rm: cannot remove '/kaggle/working/': Device or resource busy\n"
     ]
    }
   ],
   "source": [
    "!rm -r /kaggle/working/"
   ]
  },
  {
   "cell_type": "code",
   "execution_count": 106,
   "metadata": {
    "execution": {
     "iopub.execute_input": "2023-11-14T12:08:24.743233Z",
     "iopub.status.busy": "2023-11-14T12:08:24.742536Z",
     "iopub.status.idle": "2023-11-14T12:08:25.303654Z",
     "shell.execute_reply": "2023-11-14T12:08:25.302863Z",
     "shell.execute_reply.started": "2023-11-14T12:08:24.743198Z"
    }
   },
   "outputs": [
    {
     "data": {
      "text/plain": [
       "<git.repo.base.Repo '/kaggle/working/JSON2YOLO/.git'>"
      ]
     },
     "execution_count": 106,
     "metadata": {},
     "output_type": "execute_result"
    }
   ],
   "source": [
    "import git\n",
    "git.Repo.clone_from('https://github.com/ultralytics/JSON2YOLO.git', '/kaggle/working/JSON2YOLO')"
   ]
  },
  {
   "cell_type": "code",
   "execution_count": 107,
   "metadata": {
    "execution": {
     "iopub.execute_input": "2023-11-14T12:08:26.778852Z",
     "iopub.status.busy": "2023-11-14T12:08:26.778437Z",
     "iopub.status.idle": "2023-11-14T12:08:27.730709Z",
     "shell.execute_reply": "2023-11-14T12:08:27.729700Z",
     "shell.execute_reply.started": "2023-11-14T12:08:26.778819Z"
    }
   },
   "outputs": [
    {
     "name": "stdout",
     "output_type": "stream",
     "text": [
      "LICENSE    general_json2yolo.py   requirements.txt\n",
      "README.md  labelbox_json2yolo.py  utils.py\n"
     ]
    }
   ],
   "source": [
    "!ls /kaggle/working/JSON2YOLO/"
   ]
  },
  {
   "cell_type": "code",
   "execution_count": 108,
   "metadata": {
    "execution": {
     "iopub.execute_input": "2023-11-14T12:08:29.752188Z",
     "iopub.status.busy": "2023-11-14T12:08:29.751788Z",
     "iopub.status.idle": "2023-11-14T12:08:29.759841Z",
     "shell.execute_reply": "2023-11-14T12:08:29.759001Z",
     "shell.execute_reply.started": "2023-11-14T12:08:29.752157Z"
    }
   },
   "outputs": [
    {
     "name": "stdout",
     "output_type": "stream",
     "text": [
      "[\"            h, w, f = img['height'], img['width'], img['file_name'].split('/')[1]\"]\n"
     ]
    }
   ],
   "source": [
    "with open('/kaggle/working/JSON2YOLO/general_json2yolo.py', 'r+') as fd:\n",
    "    lines = fd.readlines()                                                     \n",
    "    fd.seek(0)                                                                 \n",
    "    line273 = [\"            h, w, f = img['height'], img['width'], img['file_name'].split('/')[1]\"]\n",
    "    print(line273)\n",
    "    fd.writelines(lines[:273] + line273 + lines[274:])"
   ]
  },
  {
   "cell_type": "code",
   "execution_count": 109,
   "metadata": {
    "execution": {
     "iopub.execute_input": "2023-11-14T12:08:33.270083Z",
     "iopub.status.busy": "2023-11-14T12:08:33.269371Z",
     "iopub.status.idle": "2023-11-14T12:08:33.276298Z",
     "shell.execute_reply": "2023-11-14T12:08:33.275389Z",
     "shell.execute_reply.started": "2023-11-14T12:08:33.270051Z"
    }
   },
   "outputs": [
    {
     "name": "stdout",
     "output_type": "stream",
     "text": [
      "            h, w, f = img['height'], img['width'], img['file_name'].split('/')[1]\n",
      "\n"
     ]
    }
   ],
   "source": [
    "fd = open('/kaggle/working/JSON2YOLO/general_json2yolo.py', 'r')                                             \n",
    "lines = fd.readlines()                                                     \n",
    "fd.seek(0)                                                                 \n",
    "print(lines[273])\n",
    "fd.close()"
   ]
  },
  {
   "cell_type": "code",
   "execution_count": 131,
   "metadata": {
    "execution": {
     "iopub.execute_input": "2023-11-14T12:26:54.591250Z",
     "iopub.status.busy": "2023-11-14T12:26:54.590645Z",
     "iopub.status.idle": "2023-11-14T12:27:05.219432Z",
     "shell.execute_reply": "2023-11-14T12:27:05.218594Z",
     "shell.execute_reply.started": "2023-11-14T12:26:54.591204Z"
    }
   },
   "outputs": [
    {
     "name": "stderr",
     "output_type": "stream",
     "text": [
      "Annotations /kaggle/working/train_annotation/train_anno.json: 100%|██████████| 54188/54188 [00:06<00:00, 7774.84it/s]\n"
     ]
    },
    {
     "data": {
      "application/vnd.jupyter.widget-view+json": {
       "model_id": "3632ad6bf40e4857af1fc7db7dee03da",
       "version_major": 2,
       "version_minor": 0
      },
      "text/plain": [
       "  0%|          | 0/54188 [00:00<?, ?it/s]"
      ]
     },
     "metadata": {},
     "output_type": "display_data"
    },
    {
     "name": "stderr",
     "output_type": "stream",
     "text": [
      "Annotations /kaggle/working/test_annotation/val_anno.json: 100%|██████████| 5000/5000 [00:00<00:00, 7757.33it/s]\n"
     ]
    },
    {
     "data": {
      "application/vnd.jupyter.widget-view+json": {
       "model_id": "3ea69afa8c2f400f9027c6bdd575c65d",
       "version_major": 2,
       "version_minor": 0
      },
      "text/plain": [
       "  0%|          | 0/5000 [00:00<?, ?it/s]"
      ]
     },
     "metadata": {},
     "output_type": "display_data"
    }
   ],
   "source": [
    "sys.path.append('/kaggle/input/rtsd-dataset')\n",
    "sys.path.append('/kaggle/working/JSON2YOLO')\n",
    "from JSON2YOLO.general_json2yolo import convert_coco_json\n",
    "\n",
    "test_path = '/kaggle/working/test_annotation/'\n",
    "train_path = '/kaggle/working/train_annotation/'\n",
    "\n",
    "os.makedirs(train_path, exist_ok=True)\n",
    "os.makedirs(test_path, exist_ok=True)\n",
    "\n",
    "copy('/kaggle/input/rtsd-dataset/train_anno.json', os.path.join(train_path, 'train_anno.json'))\n",
    "copy('/kaggle/input/rtsd-dataset/val_anno.json', os.path.join(test_path, 'val_anno.json'))\n",
    "\n",
    "for folder in ['labels', 'images']:\n",
    "    for path in [test_path, train_path]:\n",
    "        os.makedirs(os.path.join(path, folder), exist_ok=True)\n",
    "        \n",
    "convert_coco_json(train_path)\n",
    "for file in tqdm(os.listdir(os.path.join('new_dir/labels/train_anno'))):\n",
    "    move(os.path.join('new_dir/labels/train_anno', file), os.path.join(train_path, 'labels', file))\n",
    "    \n",
    "convert_coco_json('./test_annotation/')\n",
    "for file in tqdm(os.listdir(os.path.join('new_dir/labels/val_anno'))):\n",
    "    move(os.path.join('new_dir/labels/val_anno', file), os.path.join(test_path, 'labels', file))"
   ]
  },
  {
   "cell_type": "code",
   "execution_count": 137,
   "metadata": {
    "execution": {
     "iopub.execute_input": "2023-11-14T12:30:32.788372Z",
     "iopub.status.busy": "2023-11-14T12:30:32.787912Z",
     "iopub.status.idle": "2023-11-14T12:37:46.602232Z",
     "shell.execute_reply": "2023-11-14T12:37:46.601171Z",
     "shell.execute_reply.started": "2023-11-14T12:30:32.788335Z"
    }
   },
   "outputs": [],
   "source": [
    "test_labels = os.listdir(os.path.join(test_path, 'labels'))\n",
    "train_labels = os.listdir(os.path.join(train_path, 'labels'))\n",
    "\n",
    "test_labels = set(map(lambda x: x.split('.')[0], test_labels))\n",
    "train_labels = set(map(lambda x: x.split('.')[0], train_labels))\n",
    "\n",
    "images = '/kaggle/input/rtsd-dataset/rtsd-frames/rtsd-frames'\n",
    "for file in os.listdir(images):\n",
    "    name = file.split('.')[0]\n",
    "    if name in train_labels:\n",
    "        copy(os.path.join(images, file), os.path.join(train_path,'images', file))\n",
    "    if name in test_labels:\n",
    "        copy(os.path.join(images, file), os.path.join(test_path,'images', file))"
   ]
  },
  {
   "cell_type": "code",
   "execution_count": null,
   "metadata": {},
   "outputs": [],
   "source": [
    "!pip install ultralytics"
   ]
  },
  {
   "cell_type": "code",
   "execution_count": 1,
   "metadata": {
    "execution": {
     "iopub.execute_input": "2023-11-14T12:45:32.052206Z",
     "iopub.status.busy": "2023-11-14T12:45:32.051765Z",
     "iopub.status.idle": "2023-11-14T12:45:35.408234Z",
     "shell.execute_reply": "2023-11-14T12:45:35.407473Z",
     "shell.execute_reply.started": "2023-11-14T12:45:32.052168Z"
    }
   },
   "outputs": [],
   "source": [
    "from ultralytics import YOLO"
   ]
  },
  {
   "cell_type": "code",
   "execution_count": 141,
   "metadata": {
    "execution": {
     "iopub.execute_input": "2023-11-14T12:47:50.974014Z",
     "iopub.status.busy": "2023-11-14T12:47:50.972905Z",
     "iopub.status.idle": "2023-11-14T12:47:51.701193Z",
     "shell.execute_reply": "2023-11-14T12:47:51.700138Z",
     "shell.execute_reply.started": "2023-11-14T12:47:50.973976Z"
    }
   },
   "outputs": [
    {
     "name": "stderr",
     "output_type": "stream",
     "text": [
      "Downloading https://github.com/ultralytics/assets/releases/download/v0.0.0/yolov8n.pt to 'yolov8n.pt'...\n",
      "100%|██████████| 6.23M/6.23M [00:00<00:00, 131MB/s]\n"
     ]
    }
   ],
   "source": [
    "model = YOLO('yolov8n.pt')"
   ]
  },
  {
   "cell_type": "code",
   "execution_count": null,
   "metadata": {
    "execution": {
     "iopub.execute_input": "2023-11-14T12:56:07.575339Z",
     "iopub.status.busy": "2023-11-14T12:56:07.574444Z"
    }
   },
   "outputs": [
    {
     "name": "stderr",
     "output_type": "stream",
     "text": [
      "Ultralytics YOLOv8.0.209 🚀 Python-3.10.12 torch-2.0.0 CUDA:0 (Tesla P100-PCIE-16GB, 16281MiB)\n",
      "\u001b[34m\u001b[1mengine/trainer: \u001b[0mtask=detect, mode=train, model=yolov8n.pt, data=/kaggle/input/trafic-signs-yaml/trafic_signs.yaml, epochs=100, patience=50, batch=1, imgsz=1280, save=True, save_period=-1, cache=False, device=None, workers=8, project=None, name=train2, exist_ok=False, pretrained=True, optimizer=auto, verbose=True, seed=0, deterministic=True, single_cls=False, rect=False, cos_lr=False, close_mosaic=10, resume=False, amp=True, fraction=1.0, profile=False, freeze=None, overlap_mask=True, mask_ratio=4, dropout=0.0, val=True, split=val, save_json=False, save_hybrid=False, conf=None, iou=0.7, max_det=300, half=False, dnn=False, plots=True, source=None, show=False, save_txt=False, save_conf=False, save_crop=False, show_labels=True, show_conf=True, vid_stride=1, stream_buffer=False, line_width=None, visualize=False, augment=False, agnostic_nms=False, classes=None, retina_masks=False, boxes=True, format=torchscript, keras=False, optimize=False, int8=False, dynamic=False, simplify=False, opset=None, workspace=4, nms=False, lr0=0.01, lrf=0.01, momentum=0.937, weight_decay=0.0005, warmup_epochs=3.0, warmup_momentum=0.8, warmup_bias_lr=0.1, box=7.5, cls=0.5, dfl=1.5, pose=12.0, kobj=1.0, label_smoothing=0.0, nbs=64, hsv_h=0.015, hsv_s=0.7, hsv_v=0.4, degrees=0.0, translate=0.1, scale=0.5, shear=0.0, perspective=0.0, flipud=0.0, fliplr=0.5, mosaic=1.0, mixup=0.0, copy_paste=0.0, cfg=None, tracker=botsort.yaml, save_dir=runs/detect/train2\n",
      "Downloading https://ultralytics.com/assets/Arial.ttf to '/root/.config/Ultralytics/Arial.ttf'...\n",
      "100%|██████████| 755k/755k [00:00<00:00, 41.0MB/s]\n",
      "2023-11-14 12:56:10,157\tINFO util.py:129 -- Outdated packages:\n",
      "  ipywidgets==7.7.1 found, needs ipywidgets>=8\n",
      "Run `pip install -U ipywidgets`, then restart the notebook server for rich notebook output.\n",
      "2023-11-14 12:56:10,704\tINFO util.py:129 -- Outdated packages:\n",
      "  ipywidgets==7.7.1 found, needs ipywidgets>=8\n",
      "Run `pip install -U ipywidgets`, then restart the notebook server for rich notebook output.\n",
      "/opt/conda/lib/python3.10/site-packages/scipy/__init__.py:146: UserWarning: A NumPy version >=1.16.5 and <1.23.0 is required for this version of SciPy (detected version 1.24.3\n",
      "  warnings.warn(f\"A NumPy version >={np_minversion} and <{np_maxversion}\"\n",
      "Overriding model.yaml nc=80 with nc=155\n",
      "\n",
      "                   from  n    params  module                                       arguments                     \n",
      "  0                  -1  1       464  ultralytics.nn.modules.conv.Conv             [3, 16, 3, 2]                 \n",
      "  1                  -1  1      4672  ultralytics.nn.modules.conv.Conv             [16, 32, 3, 2]                \n",
      "  2                  -1  1      7360  ultralytics.nn.modules.block.C2f             [32, 32, 1, True]             \n",
      "  3                  -1  1     18560  ultralytics.nn.modules.conv.Conv             [32, 64, 3, 2]                \n",
      "  4                  -1  2     49664  ultralytics.nn.modules.block.C2f             [64, 64, 2, True]             \n",
      "  5                  -1  1     73984  ultralytics.nn.modules.conv.Conv             [64, 128, 3, 2]               \n",
      "  6                  -1  2    197632  ultralytics.nn.modules.block.C2f             [128, 128, 2, True]           \n",
      "  7                  -1  1    295424  ultralytics.nn.modules.conv.Conv             [128, 256, 3, 2]              \n",
      "  8                  -1  1    460288  ultralytics.nn.modules.block.C2f             [256, 256, 1, True]           \n",
      "  9                  -1  1    164608  ultralytics.nn.modules.block.SPPF            [256, 256, 5]                 \n",
      " 10                  -1  1         0  torch.nn.modules.upsampling.Upsample         [None, 2, 'nearest']          \n",
      " 11             [-1, 6]  1         0  ultralytics.nn.modules.conv.Concat           [1]                           \n",
      " 12                  -1  1    148224  ultralytics.nn.modules.block.C2f             [384, 128, 1]                 \n",
      " 13                  -1  1         0  torch.nn.modules.upsampling.Upsample         [None, 2, 'nearest']          \n",
      " 14             [-1, 4]  1         0  ultralytics.nn.modules.conv.Concat           [1]                           \n",
      " 15                  -1  1     37248  ultralytics.nn.modules.block.C2f             [192, 64, 1]                  \n",
      " 16                  -1  1     36992  ultralytics.nn.modules.conv.Conv             [64, 64, 3, 2]                \n",
      " 17            [-1, 12]  1         0  ultralytics.nn.modules.conv.Concat           [1]                           \n",
      " 18                  -1  1    123648  ultralytics.nn.modules.block.C2f             [192, 128, 1]                 \n",
      " 19                  -1  1    147712  ultralytics.nn.modules.conv.Conv             [128, 128, 3, 2]              \n",
      " 20             [-1, 9]  1         0  ultralytics.nn.modules.conv.Concat           [1]                           \n",
      " 21                  -1  1    493056  ultralytics.nn.modules.block.C2f             [384, 256, 1]                 \n",
      " 22        [15, 18, 21]  1   1103269  ultralytics.nn.modules.head.Detect           [155, [64, 128, 256]]         \n",
      "Model summary: 225 layers, 3362805 parameters, 3362789 gradients, 9.8 GFLOPs\n",
      "\n",
      "Transferred 319/355 items from pretrained weights\n",
      "\u001b[34m\u001b[1mTensorBoard: \u001b[0mStart with 'tensorboard --logdir runs/detect/train2', view at http://localhost:6006/\n",
      "\u001b[34m\u001b[1mwandb\u001b[0m: Logging into wandb.ai. (Learn how to deploy a W&B server locally: https://wandb.me/wandb-server)\n",
      "\u001b[34m\u001b[1mwandb\u001b[0m: You can find your API key in your browser here: https://wandb.ai/authorize\n",
      "\u001b[34m\u001b[1mwandb\u001b[0m: Paste an API key from your profile and hit enter, or press ctrl+c to quit:"
     ]
    },
    {
     "name": "stdin",
     "output_type": "stream",
     "text": [
      "  \n"
     ]
    },
    {
     "name": "stderr",
     "output_type": "stream",
     "text": [
      "\u001b[34m\u001b[1mwandb\u001b[0m: Paste an API key from your profile and hit enter, or press ctrl+c to quit:"
     ]
    },
    {
     "name": "stdin",
     "output_type": "stream",
     "text": [
      "  ········································\n"
     ]
    },
    {
     "name": "stderr",
     "output_type": "stream",
     "text": [
      "\u001b[34m\u001b[1mwandb\u001b[0m: Appending key for api.wandb.ai to your netrc file: /root/.netrc\n"
     ]
    },
    {
     "data": {
      "text/html": [
       "wandb version 0.16.0 is available!  To upgrade, please run:\n",
       " $ pip install wandb --upgrade"
      ],
      "text/plain": [
       "<IPython.core.display.HTML object>"
      ]
     },
     "metadata": {},
     "output_type": "display_data"
    },
    {
     "data": {
      "text/html": [
       "Tracking run with wandb version 0.15.12"
      ],
      "text/plain": [
       "<IPython.core.display.HTML object>"
      ]
     },
     "metadata": {},
     "output_type": "display_data"
    },
    {
     "data": {
      "text/html": [
       "Run data is saved locally in <code>/kaggle/working/wandb/run-20231114_130103-86glgkws</code>"
      ],
      "text/plain": [
       "<IPython.core.display.HTML object>"
      ]
     },
     "metadata": {},
     "output_type": "display_data"
    },
    {
     "data": {
      "text/html": [
       "Syncing run <strong><a href='https://wandb.ai/lavrentyevvu/YOLOv8/runs/86glgkws' target=\"_blank\">train2</a></strong> to <a href='https://wandb.ai/lavrentyevvu/YOLOv8' target=\"_blank\">Weights & Biases</a> (<a href='https://wandb.me/run' target=\"_blank\">docs</a>)<br/>"
      ],
      "text/plain": [
       "<IPython.core.display.HTML object>"
      ]
     },
     "metadata": {},
     "output_type": "display_data"
    },
    {
     "data": {
      "text/html": [
       " View project at <a href='https://wandb.ai/lavrentyevvu/YOLOv8' target=\"_blank\">https://wandb.ai/lavrentyevvu/YOLOv8</a>"
      ],
      "text/plain": [
       "<IPython.core.display.HTML object>"
      ]
     },
     "metadata": {},
     "output_type": "display_data"
    },
    {
     "data": {
      "text/html": [
       " View run at <a href='https://wandb.ai/lavrentyevvu/YOLOv8/runs/86glgkws' target=\"_blank\">https://wandb.ai/lavrentyevvu/YOLOv8/runs/86glgkws</a>"
      ],
      "text/plain": [
       "<IPython.core.display.HTML object>"
      ]
     },
     "metadata": {},
     "output_type": "display_data"
    },
    {
     "name": "stderr",
     "output_type": "stream",
     "text": [
      "Freezing layer 'model.22.dfl.conv.weight'\n",
      "\u001b[34m\u001b[1mAMP: \u001b[0mrunning Automatic Mixed Precision (AMP) checks with YOLOv8n...\n",
      "\u001b[34m\u001b[1mAMP: \u001b[0mchecks passed ✅\n",
      "\u001b[34m\u001b[1mtrain: \u001b[0mScanning /kaggle/working/train_annotation/labels... 54188 images, 0 backgrounds, 0 corrupt: 100%|██████████| 54188/54188 [00:45<00:00, 1183.71it/s]\n",
      "\u001b[34m\u001b[1mtrain: \u001b[0mNew cache created: /kaggle/working/train_annotation/labels.cache\n",
      "\u001b[34m\u001b[1malbumentations: \u001b[0mBlur(p=0.01, blur_limit=(3, 7)), MedianBlur(p=0.01, blur_limit=(3, 7)), ToGray(p=0.01), CLAHE(p=0.01, clip_limit=(1, 4.0), tile_grid_size=(8, 8))\n",
      "\u001b[34m\u001b[1mval: \u001b[0mScanning /kaggle/working/test_annotation/labels... 5000 images, 0 backgrounds, 0 corrupt: 100%|██████████| 5000/5000 [00:04<00:00, 1169.75it/s]\n",
      "\u001b[34m\u001b[1mval: \u001b[0mNew cache created: /kaggle/working/test_annotation/labels.cache\n",
      "Plotting labels to runs/detect/train2/labels.jpg... \n",
      "\u001b[34m\u001b[1moptimizer:\u001b[0m 'optimizer=auto' found, ignoring 'lr0=0.01' and 'momentum=0.937' and determining best 'optimizer', 'lr0' and 'momentum' automatically... \n",
      "\u001b[34m\u001b[1moptimizer:\u001b[0m SGD(lr=0.01, momentum=0.9) with parameter groups 57 weight(decay=0.0), 64 weight(decay=0.0005), 63 bias(decay=0.0)\n",
      "Image sizes 1280 train, 1280 val\n",
      "Using 0 dataloader workers\n",
      "Logging results to \u001b[1mruns/detect/train2\u001b[0m\n",
      "Starting training for 100 epochs...\n",
      "\n",
      "      Epoch    GPU_mem   box_loss   cls_loss   dfl_loss  Instances       Size\n",
      "      1/100      1.13G      1.172      6.173     0.9443          5       1280: 100%|██████████| 54188/54188 [3:00:44<00:00,  5.00it/s]  \n",
      "                 Class     Images  Instances      Box(P          R      mAP50  mAP50-95): 100%|██████████| 2500/2500 [01:36<00:00, 25.92it/s]\n",
      "                   all       5000       8866        0.4      0.221      0.209      0.154\n",
      "\n",
      "      Epoch    GPU_mem   box_loss   cls_loss   dfl_loss  Instances       Size\n",
      "      2/100     0.862G      1.135      2.127     0.9508          2       1280:  49%|████▉     | 26516/54188 [1:28:00<1:33:19,  4.94it/s]"
     ]
    }
   ],
   "source": [
    "data_yaml = '/kaggle/input/trafic-signs-yaml/trafic_signs.yaml'\n",
    "results = model.train(data=data_yaml, epochs=100,batch=1, imgsz=1280)"
   ]
  },
  {
   "cell_type": "code",
   "execution_count": 2,
   "metadata": {},
   "outputs": [],
   "source": [
    "model = YOLO('last.pt')"
   ]
  },
  {
   "cell_type": "code",
   "execution_count": 20,
   "metadata": {},
   "outputs": [
    {
     "name": "stderr",
     "output_type": "stream",
     "text": [
      "\n",
      "1/1: https://www.youtube.com/watch?v=DMXmKg6thHo... Success  (8598 frames of shape 1920x1080 at 29.97 FPS)\n",
      "\n",
      "\n",
      "WARNING  inference results will accumulate in RAM unless `stream=True` is passed, causing potential out-of-memory\n",
      "errors for large sources or long-running streams and videos. See https://docs.ultralytics.com/modes/predict/ for help.\n",
      "\n",
      "Example:\n",
      "    results = model(source=..., stream=True)  # generator of Results objects\n",
      "    for r in results:\n",
      "        boxes = r.boxes  # Boxes object for bbox outputs\n",
      "        masks = r.masks  # Masks object for segment masks outputs\n",
      "        probs = r.probs  # Class probabilities for classification outputs\n",
      "\n",
      "0: 736x1280 1 4_2_1, 173.0ms\n",
      "0: 736x1280 (no detections), 376.0ms\n",
      "0: 736x1280 (no detections), 196.0ms\n",
      "0: 736x1280 (no detections), 261.0ms\n",
      "0: 736x1280 (no detections), 235.0ms\n",
      "0: 736x1280 (no detections), 200.0ms\n",
      "0: 736x1280 (no detections), 99.0ms\n",
      "0: 736x1280 (no detections), 54.0ms\n",
      "0: 736x1280 (no detections), 236.0ms\n",
      "0: 736x1280 (no detections), 269.0ms\n",
      "0: 736x1280 (no detections), 242.0ms\n",
      "0: 736x1280 (no detections), 88.0ms\n",
      "0: 736x1280 (no detections), 182.0ms\n",
      "0: 736x1280 (no detections), 123.0ms\n",
      "0: 736x1280 (no detections), 77.0ms\n",
      "0: 736x1280 (no detections), 84.0ms\n",
      "0: 736x1280 (no detections), 128.0ms\n",
      "0: 736x1280 (no detections), 187.0ms\n",
      "0: 736x1280 (no detections), 157.0ms\n",
      "0: 736x1280 (no detections), 129.0ms\n",
      "0: 736x1280 (no detections), 270.0ms\n",
      "0: 736x1280 (no detections), 183.1ms\n",
      "0: 736x1280 (no detections), 166.0ms\n",
      "0: 736x1280 (no detections), 285.0ms\n",
      "0: 736x1280 (no detections), 358.0ms\n",
      "0: 736x1280 (no detections), 148.0ms\n",
      "0: 736x1280 (no detections), 147.0ms\n",
      "0: 736x1280 (no detections), 111.0ms\n",
      "0: 736x1280 (no detections), 136.0ms\n",
      "0: 736x1280 (no detections), 223.0ms\n",
      "0: 736x1280 (no detections), 448.0ms\n",
      "0: 736x1280 (no detections), 394.0ms\n",
      "0: 736x1280 (no detections), 189.0ms\n",
      "0: 736x1280 (no detections), 134.9ms\n",
      "0: 736x1280 (no detections), 290.0ms\n",
      "0: 736x1280 (no detections), 161.0ms\n",
      "0: 736x1280 (no detections), 545.0ms\n",
      "0: 736x1280 (no detections), 110.0ms\n",
      "0: 736x1280 (no detections), 91.0ms\n",
      "0: 736x1280 (no detections), 112.0ms\n",
      "0: 736x1280 (no detections), 159.0ms\n",
      "0: 736x1280 (no detections), 191.0ms\n",
      "0: 736x1280 (no detections), 58.0ms\n",
      "0: 736x1280 (no detections), 109.0ms\n",
      "0: 736x1280 (no detections), 143.0ms\n",
      "0: 736x1280 (no detections), 268.0ms\n",
      "0: 736x1280 (no detections), 86.0ms\n",
      "0: 736x1280 (no detections), 96.0ms\n",
      "0: 736x1280 (no detections), 52.0ms\n",
      "0: 736x1280 (no detections), 202.0ms\n",
      "0: 736x1280 (no detections), 241.0ms\n",
      "0: 736x1280 (no detections), 149.0ms\n",
      "0: 736x1280 (no detections), 170.0ms\n",
      "0: 736x1280 (no detections), 229.0ms\n",
      "0: 736x1280 (no detections), 159.0ms\n",
      "0: 736x1280 (no detections), 163.4ms\n",
      "0: 736x1280 (no detections), 154.0ms\n",
      "0: 736x1280 (no detections), 184.0ms\n",
      "0: 736x1280 (no detections), 162.0ms\n",
      "0: 736x1280 (no detections), 52.0ms\n",
      "0: 736x1280 (no detections), 355.0ms\n",
      "0: 736x1280 (no detections), 83.0ms\n",
      "0: 736x1280 (no detections), 67.0ms\n",
      "0: 736x1280 (no detections), 108.0ms\n",
      "0: 736x1280 (no detections), 263.0ms\n",
      "0: 736x1280 (no detections), 204.0ms\n",
      "0: 736x1280 (no detections), 154.0ms\n",
      "0: 736x1280 (no detections), 52.0ms\n",
      "0: 736x1280 (no detections), 268.0ms\n",
      "0: 736x1280 (no detections), 24.0ms\n",
      "0: 736x1280 (no detections), 115.0ms\n",
      "0: 736x1280 (no detections), 143.0ms\n",
      "0: 736x1280 (no detections), 52.0ms\n",
      "0: 736x1280 (no detections), 132.0ms\n",
      "0: 736x1280 (no detections), 116.0ms\n",
      "0: 736x1280 (no detections), 152.0ms\n",
      "0: 736x1280 (no detections), 117.0ms\n",
      "0: 736x1280 (no detections), 50.0ms\n",
      "0: 736x1280 (no detections), 178.0ms\n",
      "0: 736x1280 (no detections), 116.0ms\n",
      "0: 736x1280 (no detections), 233.0ms\n",
      "0: 736x1280 (no detections), 150.0ms\n",
      "0: 736x1280 (no detections), 187.0ms\n",
      "0: 736x1280 (no detections), 58.0ms\n",
      "0: 736x1280 (no detections), 63.0ms\n",
      "0: 736x1280 (no detections), 34.0ms\n",
      "0: 736x1280 (no detections), 74.0ms\n",
      "0: 736x1280 (no detections), 141.0ms\n",
      "0: 736x1280 (no detections), 181.0ms\n",
      "0: 736x1280 (no detections), 80.0ms\n",
      "0: 736x1280 (no detections), 220.0ms\n",
      "0: 736x1280 (no detections), 26.0ms\n",
      "0: 736x1280 1 3_24, 113.0ms\n",
      "0: 736x1280 (no detections), 112.0ms\n",
      "0: 736x1280 (no detections), 31.0ms\n",
      "0: 736x1280 (no detections), 183.0ms\n",
      "0: 736x1280 (no detections), 139.0ms\n",
      "0: 736x1280 (no detections), 85.0ms\n",
      "0: 736x1280 (no detections), 104.0ms\n",
      "0: 736x1280 (no detections), 353.0ms\n",
      "0: 736x1280 (no detections), 152.0ms\n",
      "0: 736x1280 (no detections), 216.0ms\n",
      "0: 736x1280 (no detections), 309.0ms\n",
      "0: 736x1280 (no detections), 66.0ms\n",
      "0: 736x1280 (no detections), 86.0ms\n",
      "0: 736x1280 (no detections), 162.0ms\n",
      "0: 736x1280 (no detections), 59.0ms\n",
      "0: 736x1280 (no detections), 111.0ms\n",
      "0: 736x1280 (no detections), 195.0ms\n",
      "0: 736x1280 (no detections), 235.0ms\n",
      "0: 736x1280 (no detections), 76.0ms\n",
      "0: 736x1280 (no detections), 95.0ms\n",
      "0: 736x1280 (no detections), 50.0ms\n",
      "0: 736x1280 (no detections), 134.0ms\n",
      "0: 736x1280 (no detections), 94.0ms\n",
      "0: 736x1280 (no detections), 108.0ms\n",
      "0: 736x1280 (no detections), 120.0ms\n",
      "0: 736x1280 (no detections), 465.0ms\n",
      "0: 736x1280 (no detections), 54.0ms\n",
      "0: 736x1280 (no detections), 541.0ms\n",
      "0: 736x1280 (no detections), 221.0ms\n",
      "0: 736x1280 (no detections), 482.0ms\n",
      "0: 736x1280 (no detections), 124.0ms\n",
      "0: 736x1280 (no detections), 219.0ms\n",
      "0: 736x1280 (no detections), 291.0ms\n",
      "0: 736x1280 (no detections), 247.0ms\n",
      "0: 736x1280 (no detections), 201.0ms\n",
      "0: 736x1280 (no detections), 66.0ms\n",
      "0: 736x1280 (no detections), 43.0ms\n",
      "0: 736x1280 (no detections), 63.0ms\n",
      "0: 736x1280 (no detections), 73.0ms\n",
      "0: 736x1280 (no detections), 193.0ms\n",
      "0: 736x1280 (no detections), 348.0ms\n",
      "0: 736x1280 (no detections), 154.0ms\n",
      "0: 736x1280 (no detections), 73.0ms\n",
      "0: 736x1280 (no detections), 63.0ms\n",
      "0: 736x1280 (no detections), 77.0ms\n",
      "0: 736x1280 (no detections), 221.0ms\n",
      "0: 736x1280 (no detections), 180.0ms\n",
      "0: 736x1280 (no detections), 168.0ms\n",
      "0: 736x1280 (no detections), 207.0ms\n",
      "0: 736x1280 (no detections), 119.0ms\n",
      "0: 736x1280 (no detections), 57.0ms\n",
      "0: 736x1280 (no detections), 184.0ms\n",
      "0: 736x1280 (no detections), 247.0ms\n",
      "0: 736x1280 (no detections), 51.0ms\n",
      "0: 736x1280 (no detections), 200.0ms\n",
      "0: 736x1280 (no detections), 207.0ms\n",
      "0: 736x1280 (no detections), 135.0ms\n",
      "0: 736x1280 (no detections), 168.0ms\n",
      "0: 736x1280 (no detections), 69.0ms\n",
      "0: 736x1280 (no detections), 169.0ms\n",
      "0: 736x1280 (no detections), 123.0ms\n",
      "0: 736x1280 (no detections), 233.0ms\n",
      "0: 736x1280 (no detections), 290.0ms\n",
      "0: 736x1280 (no detections), 264.0ms\n",
      "0: 736x1280 (no detections), 355.0ms\n",
      "0: 736x1280 (no detections), 159.0ms\n",
      "0: 736x1280 (no detections), 127.0ms\n",
      "0: 736x1280 (no detections), 44.0ms\n",
      "0: 736x1280 (no detections), 51.0ms\n",
      "0: 736x1280 1 2_1, 293.0ms\n",
      "0: 736x1280 (no detections), 238.0ms\n",
      "0: 736x1280 (no detections), 151.0ms\n",
      "0: 736x1280 (no detections), 66.0ms\n",
      "0: 736x1280 (no detections), 53.0ms\n",
      "0: 736x1280 (no detections), 110.0ms\n",
      "0: 736x1280 (no detections), 151.0ms\n",
      "0: 736x1280 (no detections), 297.0ms\n",
      "0: 736x1280 (no detections), 254.0ms\n",
      "0: 736x1280 (no detections), 256.0ms\n",
      "0: 736x1280 (no detections), 249.0ms\n",
      "0: 736x1280 (no detections), 301.0ms\n",
      "0: 736x1280 (no detections), 232.0ms\n",
      "0: 736x1280 (no detections), 113.0ms\n",
      "0: 736x1280 (no detections), 188.0ms\n",
      "0: 736x1280 (no detections), 162.0ms\n",
      "0: 736x1280 (no detections), 50.0ms\n",
      "0: 736x1280 (no detections), 83.0ms\n",
      "0: 736x1280 (no detections), 118.0ms\n",
      "0: 736x1280 (no detections), 92.0ms\n",
      "0: 736x1280 (no detections), 198.0ms\n",
      "0: 736x1280 (no detections), 52.0ms\n",
      "0: 736x1280 (no detections), 52.0ms\n",
      "0: 736x1280 (no detections), 144.0ms\n",
      "0: 736x1280 (no detections), 53.0ms\n",
      "0: 736x1280 (no detections), 115.0ms\n",
      "0: 736x1280 (no detections), 166.0ms\n",
      "0: 736x1280 (no detections), 43.0ms\n",
      "0: 736x1280 (no detections), 246.0ms\n",
      "0: 736x1280 (no detections), 82.0ms\n",
      "0: 736x1280 (no detections), 56.0ms\n",
      "0: 736x1280 (no detections), 104.0ms\n",
      "0: 736x1280 (no detections), 42.0ms\n",
      "0: 736x1280 (no detections), 31.0ms\n",
      "0: 736x1280 (no detections), 57.0ms\n",
      "0: 736x1280 (no detections), 68.0ms\n",
      "0: 736x1280 (no detections), 69.0ms\n",
      "0: 736x1280 (no detections), 121.0ms\n",
      "0: 736x1280 (no detections), 74.0ms\n",
      "0: 736x1280 (no detections), 142.0ms\n",
      "0: 736x1280 (no detections), 147.0ms\n",
      "0: 736x1280 (no detections), 140.0ms\n",
      "0: 736x1280 (no detections), 117.0ms\n",
      "0: 736x1280 (no detections), 145.0ms\n",
      "0: 736x1280 (no detections), 50.0ms\n",
      "0: 736x1280 (no detections), 64.0ms\n"
     ]
    },
    {
     "name": "stderr",
     "output_type": "stream",
     "text": [
      "0: 736x1280 (no detections), 57.0ms\n",
      "0: 736x1280 (no detections), 59.0ms\n",
      "0: 736x1280 (no detections), 107.0ms\n",
      "0: 736x1280 (no detections), 153.0ms\n",
      "0: 736x1280 (no detections), 100.0ms\n",
      "0: 736x1280 (no detections), 54.0ms\n",
      "0: 736x1280 (no detections), 181.0ms\n",
      "0: 736x1280 (no detections), 108.0ms\n",
      "0: 736x1280 (no detections), 69.0ms\n",
      "0: 736x1280 (no detections), 77.0ms\n",
      "0: 736x1280 (no detections), 307.5ms\n",
      "0: 736x1280 1 7_3, 138.0ms\n",
      "0: 736x1280 (no detections), 161.0ms\n",
      "0: 736x1280 (no detections), 120.0ms\n",
      "0: 736x1280 (no detections), 93.0ms\n",
      "0: 736x1280 (no detections), 192.0ms\n",
      "0: 736x1280 (no detections), 126.0ms\n",
      "0: 736x1280 (no detections), 154.0ms\n",
      "0: 736x1280 (no detections), 243.0ms\n",
      "0: 736x1280 (no detections), 47.0ms\n",
      "0: 736x1280 (no detections), 64.0ms\n",
      "0: 736x1280 (no detections), 171.0ms\n",
      "0: 736x1280 (no detections), 119.0ms\n",
      "0: 736x1280 (no detections), 90.0ms\n",
      "0: 736x1280 (no detections), 203.0ms\n",
      "0: 736x1280 (no detections), 51.0ms\n",
      "0: 736x1280 (no detections), 81.0ms\n",
      "0: 736x1280 (no detections), 146.0ms\n",
      "0: 736x1280 1 3_24, 68.0ms\n",
      "0: 736x1280 (no detections), 133.0ms\n",
      "0: 736x1280 (no detections), 152.0ms\n",
      "0: 736x1280 (no detections), 159.0ms\n",
      "0: 736x1280 (no detections), 65.0ms\n",
      "0: 736x1280 (no detections), 111.0ms\n",
      "0: 736x1280 (no detections), 168.0ms\n",
      "0: 736x1280 (no detections), 81.0ms\n",
      "0: 736x1280 (no detections), 122.0ms\n",
      "0: 736x1280 (no detections), 515.0ms\n",
      "0: 736x1280 (no detections), 232.9ms\n",
      "0: 736x1280 (no detections), 102.0ms\n",
      "0: 736x1280 (no detections), 184.0ms\n",
      "0: 736x1280 (no detections), 232.0ms\n",
      "0: 736x1280 (no detections), 69.0ms\n",
      "0: 736x1280 (no detections), 192.0ms\n",
      "0: 736x1280 (no detections), 416.0ms\n",
      "0: 736x1280 (no detections), 377.0ms\n",
      "0: 736x1280 (no detections), 128.0ms\n",
      "0: 736x1280 (no detections), 139.0ms\n",
      "0: 736x1280 (no detections), 183.0ms\n",
      "0: 736x1280 (no detections), 59.0ms\n",
      "0: 736x1280 (no detections), 76.0ms\n",
      "0: 736x1280 (no detections), 123.0ms\n",
      "0: 736x1280 (no detections), 115.1ms\n",
      "0: 736x1280 (no detections), 218.0ms\n",
      "0: 736x1280 (no detections), 201.0ms\n",
      "0: 736x1280 (no detections), 82.0ms\n",
      "0: 736x1280 (no detections), 87.0ms\n",
      "0: 736x1280 (no detections), 148.0ms\n",
      "0: 736x1280 (no detections), 157.0ms\n",
      "0: 736x1280 (no detections), 121.0ms\n",
      "0: 736x1280 (no detections), 153.0ms\n",
      "0: 736x1280 (no detections), 108.0ms\n",
      "0: 736x1280 (no detections), 146.0ms\n",
      "0: 736x1280 (no detections), 391.0ms\n",
      "0: 736x1280 (no detections), 124.0ms\n",
      "0: 736x1280 (no detections), 291.0ms\n",
      "0: 736x1280 (no detections), 146.0ms\n",
      "0: 736x1280 (no detections), 141.0ms\n",
      "0: 736x1280 (no detections), 198.0ms\n",
      "0: 736x1280 (no detections), 115.0ms\n",
      "0: 736x1280 (no detections), 76.0ms\n",
      "0: 736x1280 (no detections), 325.0ms\n",
      "0: 736x1280 (no detections), 102.0ms\n",
      "0: 736x1280 (no detections), 517.0ms\n",
      "0: 736x1280 (no detections), 584.0ms\n",
      "0: 736x1280 (no detections), 262.0ms\n",
      "0: 736x1280 (no detections), 159.9ms\n",
      "0: 736x1280 (no detections), 122.0ms\n",
      "0: 736x1280 (no detections), 253.0ms\n",
      "0: 736x1280 (no detections), 352.0ms\n",
      "0: 736x1280 (no detections), 50.0ms\n",
      "0: 736x1280 (no detections), 75.0ms\n",
      "0: 736x1280 (no detections), 53.0ms\n",
      "0: 736x1280 (no detections), 155.0ms\n",
      "0: 736x1280 (no detections), 120.0ms\n",
      "0: 736x1280 (no detections), 128.0ms\n",
      "0: 736x1280 (no detections), 294.0ms\n",
      "0: 736x1280 (no detections), 119.0ms\n",
      "0: 736x1280 (no detections), 89.0ms\n",
      "0: 736x1280 (no detections), 113.0ms\n",
      "0: 736x1280 (no detections), 113.0ms\n",
      "0: 736x1280 (no detections), 63.0ms\n",
      "0: 736x1280 (no detections), 172.0ms\n",
      "0: 736x1280 (no detections), 108.0ms\n",
      "0: 736x1280 (no detections), 208.0ms\n",
      "0: 736x1280 (no detections), 99.0ms\n",
      "0: 736x1280 (no detections), 108.0ms\n",
      "0: 736x1280 (no detections), 131.0ms\n",
      "0: 736x1280 1 3_24, 115.0ms\n",
      "0: 736x1280 (no detections), 129.0ms\n",
      "0: 736x1280 (no detections), 124.0ms\n",
      "0: 736x1280 (no detections), 51.0ms\n",
      "0: 736x1280 (no detections), 74.0ms\n",
      "0: 736x1280 (no detections), 123.0ms\n",
      "0: 736x1280 1 1_23, 58.0ms\n",
      "0: 736x1280 (no detections), 50.0ms\n",
      "0: 736x1280 (no detections), 299.0ms\n",
      "0: 736x1280 (no detections), 54.0ms\n",
      "0: 736x1280 1 3_24, 370.0ms\n",
      "0: 736x1280 (no detections), 123.0ms\n",
      "0: 736x1280 (no detections), 160.0ms\n",
      "0: 736x1280 (no detections), 293.0ms\n",
      "0: 736x1280 (no detections), 151.0ms\n",
      "0: 736x1280 (no detections), 304.0ms\n",
      "0: 736x1280 (no detections), 95.0ms\n",
      "0: 736x1280 (no detections), 117.0ms\n",
      "0: 736x1280 (no detections), 125.0ms\n",
      "0: 736x1280 1 4_2_3, 138.0ms\n",
      "0: 736x1280 (no detections), 130.0ms\n",
      "0: 736x1280 1 2_1, 200.0ms\n",
      "0: 736x1280 (no detections), 121.0ms\n",
      "0: 736x1280 (no detections), 104.0ms\n",
      "0: 736x1280 (no detections), 153.0ms\n",
      "0: 736x1280 (no detections), 167.0ms\n",
      "0: 736x1280 1 5_16, 187.0ms\n",
      "0: 736x1280 (no detections), 129.0ms\n",
      "0: 736x1280 (no detections), 151.0ms\n",
      "0: 736x1280 (no detections), 114.0ms\n",
      "0: 736x1280 (no detections), 163.0ms\n",
      "0: 736x1280 (no detections), 339.0ms\n",
      "0: 736x1280 (no detections), 115.0ms\n",
      "0: 736x1280 (no detections), 127.0ms\n",
      "0: 736x1280 (no detections), 208.0ms\n",
      "0: 736x1280 (no detections), 196.0ms\n",
      "0: 736x1280 (no detections), 210.0ms\n",
      "0: 736x1280 (no detections), 171.0ms\n",
      "0: 736x1280 (no detections), 67.0ms\n",
      "0: 736x1280 (no detections), 397.0ms\n",
      "0: 736x1280 (no detections), 181.0ms\n",
      "0: 736x1280 (no detections), 127.0ms\n",
      "0: 736x1280 (no detections), 188.0ms\n",
      "0: 736x1280 (no detections), 167.0ms\n",
      "0: 736x1280 (no detections), 120.0ms\n",
      "0: 736x1280 (no detections), 89.0ms\n",
      "0: 736x1280 2 2_4s, 72.0ms\n",
      "0: 736x1280 (no detections), 130.0ms\n",
      "0: 736x1280 1 3_24, 266.0ms\n",
      "0: 736x1280 (no detections), 117.0ms\n",
      "0: 736x1280 (no detections), 132.0ms\n",
      "0: 736x1280 (no detections), 105.0ms\n",
      "0: 736x1280 (no detections), 77.0ms\n",
      "WARNING  Video stream unresponsive, please check your IP camera connection.\n",
      "0: 736x1280 1 4_2_3, 48.0ms\n",
      "0: 736x1280 1 4_2_1, 134.0ms\n",
      "0: 736x1280 1 2_1, 1 6_4, 140.0ms\n",
      "0: 736x1280 (no detections), 86.0ms\n",
      "0: 736x1280 (no detections), 170.0ms\n",
      "0: 736x1280 (no detections), 147.0ms\n",
      "0: 736x1280 (no detections), 136.0ms\n",
      "0: 736x1280 (no detections), 134.0ms\n",
      "0: 736x1280 (no detections), 94.0ms\n",
      "0: 736x1280 (no detections), 49.0ms\n",
      "0: 736x1280 (no detections), 198.0ms\n",
      "0: 736x1280 (no detections), 117.0ms\n",
      "0: 736x1280 (no detections), 248.0ms\n",
      "0: 736x1280 (no detections), 162.0ms\n",
      "0: 736x1280 (no detections), 49.0ms\n",
      "0: 736x1280 (no detections), 164.0ms\n",
      "0: 736x1280 (no detections), 152.0ms\n",
      "0: 736x1280 (no detections), 237.0ms\n",
      "0: 736x1280 (no detections), 53.0ms\n",
      "0: 736x1280 (no detections), 130.0ms\n",
      "0: 736x1280 (no detections), 378.0ms\n",
      "0: 736x1280 (no detections), 117.1ms\n",
      "0: 736x1280 (no detections), 267.0ms\n",
      "0: 736x1280 (no detections), 138.0ms\n",
      "0: 736x1280 (no detections), 237.0ms\n",
      "0: 736x1280 (no detections), 129.0ms\n",
      "0: 736x1280 (no detections), 127.0ms\n",
      "0: 736x1280 (no detections), 157.0ms\n",
      "0: 736x1280 (no detections), 51.0ms\n",
      "0: 736x1280 (no detections), 263.0ms\n",
      "0: 736x1280 (no detections), 207.0ms\n",
      "0: 736x1280 (no detections), 128.0ms\n",
      "0: 736x1280 (no detections), 52.0ms\n",
      "0: 736x1280 (no detections), 53.0ms\n",
      "0: 736x1280 (no detections), 194.0ms\n",
      "0: 736x1280 (no detections), 93.0ms\n",
      "0: 736x1280 (no detections), 180.0ms\n",
      "0: 736x1280 (no detections), 138.0ms\n",
      "0: 736x1280 (no detections), 250.0ms\n",
      "0: 736x1280 (no detections), 55.0ms\n",
      "0: 736x1280 (no detections), 170.0ms\n",
      "0: 736x1280 (no detections), 153.0ms\n",
      "0: 736x1280 (no detections), 146.0ms\n",
      "0: 736x1280 (no detections), 173.0ms\n",
      "0: 736x1280 (no detections), 210.0ms\n",
      "0: 736x1280 (no detections), 98.0ms\n",
      "0: 736x1280 (no detections), 380.0ms\n",
      "0: 736x1280 (no detections), 225.0ms\n",
      "0: 736x1280 (no detections), 155.0ms\n",
      "0: 736x1280 (no detections), 347.0ms\n",
      "0: 736x1280 (no detections), 112.0ms\n",
      "0: 736x1280 (no detections), 99.0ms\n",
      "0: 736x1280 (no detections), 57.0ms\n",
      "0: 736x1280 (no detections), 131.0ms\n",
      "0: 736x1280 (no detections), 185.0ms\n",
      "0: 736x1280 (no detections), 135.0ms\n",
      "0: 736x1280 (no detections), 219.0ms\n",
      "0: 736x1280 (no detections), 64.0ms\n",
      "0: 736x1280 (no detections), 66.0ms\n",
      "0: 736x1280 (no detections), 109.0ms\n",
      "0: 736x1280 (no detections), 105.0ms\n",
      "0: 736x1280 (no detections), 276.0ms\n",
      "0: 736x1280 (no detections), 87.0ms\n",
      "0: 736x1280 (no detections), 222.0ms\n",
      "0: 736x1280 (no detections), 225.0ms\n",
      "0: 736x1280 (no detections), 108.0ms\n",
      "0: 736x1280 (no detections), 99.0ms\n",
      "0: 736x1280 (no detections), 199.0ms\n",
      "0: 736x1280 1 5_19_1, 181.0ms\n",
      "0: 736x1280 1 3_24, 102.0ms\n",
      "0: 736x1280 (no detections), 171.0ms\n",
      "0: 736x1280 (no detections), 205.0ms\n",
      "0: 736x1280 (no detections), 198.0ms\n",
      "0: 736x1280 1 4_2_1, 238.0ms\n"
     ]
    },
    {
     "name": "stderr",
     "output_type": "stream",
     "text": [
      "0: 736x1280 1 2_1, 171.0ms\n",
      "0: 736x1280 (no detections), 126.0ms\n",
      "0: 736x1280 (no detections), 200.0ms\n",
      "0: 736x1280 (no detections), 125.0ms\n",
      "0: 736x1280 (no detections), 118.0ms\n",
      "0: 736x1280 1 3_27, 112.0ms\n",
      "0: 736x1280 (no detections), 54.0ms\n",
      "0: 736x1280 (no detections), 97.0ms\n",
      "0: 736x1280 (no detections), 52.0ms\n",
      "0: 736x1280 (no detections), 194.0ms\n",
      "0: 736x1280 1 2_4, 199.0ms\n",
      "0: 736x1280 (no detections), 249.0ms\n",
      "0: 736x1280 (no detections), 129.0ms\n",
      "0: 736x1280 1 6_4, 91.0ms\n",
      "0: 736x1280 (no detections), 267.0ms\n",
      "0: 736x1280 (no detections), 146.0ms\n",
      "0: 736x1280 (no detections), 186.0ms\n",
      "0: 736x1280 (no detections), 164.0ms\n",
      "0: 736x1280 (no detections), 154.0ms\n",
      "0: 736x1280 (no detections), 219.0ms\n",
      "0: 736x1280 (no detections), 63.0ms\n",
      "0: 736x1280 (no detections), 117.0ms\n",
      "0: 736x1280 (no detections), 240.0ms\n",
      "0: 736x1280 (no detections), 213.0ms\n",
      "0: 736x1280 (no detections), 238.0ms\n",
      "0: 736x1280 (no detections), 196.0ms\n",
      "0: 736x1280 (no detections), 69.0ms\n",
      "0: 736x1280 (no detections), 272.0ms\n",
      "0: 736x1280 (no detections), 258.0ms\n",
      "0: 736x1280 (no detections), 238.0ms\n",
      "0: 736x1280 (no detections), 174.0ms\n",
      "0: 736x1280 (no detections), 128.0ms\n",
      "0: 736x1280 (no detections), 76.0ms\n",
      "0: 736x1280 (no detections), 64.0ms\n",
      "0: 736x1280 (no detections), 90.0ms\n",
      "0: 736x1280 (no detections), 133.0ms\n",
      "0: 736x1280 (no detections), 211.0ms\n",
      "0: 736x1280 (no detections), 50.0ms\n",
      "0: 736x1280 (no detections), 135.0ms\n",
      "0: 736x1280 (no detections), 55.0ms\n",
      "0: 736x1280 (no detections), 111.0ms\n",
      "0: 736x1280 (no detections), 201.9ms\n",
      "0: 736x1280 (no detections), 117.0ms\n",
      "0: 736x1280 (no detections), 123.0ms\n",
      "0: 736x1280 (no detections), 111.0ms\n",
      "0: 736x1280 (no detections), 47.0ms\n",
      "0: 736x1280 (no detections), 179.0ms\n",
      "0: 736x1280 (no detections), 127.0ms\n",
      "0: 736x1280 (no detections), 230.0ms\n",
      "0: 736x1280 (no detections), 409.0ms\n",
      "0: 736x1280 (no detections), 103.0ms\n",
      "0: 736x1280 (no detections), 142.0ms\n",
      "0: 736x1280 (no detections), 178.0ms\n",
      "0: 736x1280 (no detections), 126.0ms\n",
      "0: 736x1280 (no detections), 163.0ms\n",
      "0: 736x1280 (no detections), 153.0ms\n",
      "0: 736x1280 (no detections), 201.0ms\n",
      "0: 736x1280 (no detections), 84.0ms\n",
      "0: 736x1280 (no detections), 126.0ms\n",
      "0: 736x1280 (no detections), 221.0ms\n",
      "0: 736x1280 1 5_20, 113.0ms\n",
      "0: 736x1280 (no detections), 232.0ms\n",
      "0: 736x1280 (no detections), 122.0ms\n",
      "0: 736x1280 (no detections), 129.0ms\n",
      "0: 736x1280 (no detections), 111.0ms\n",
      "0: 736x1280 (no detections), 254.0ms\n",
      "0: 736x1280 (no detections), 53.0ms\n",
      "0: 736x1280 (no detections), 52.0ms\n",
      "0: 736x1280 (no detections), 274.0ms\n",
      "0: 736x1280 (no detections), 195.0ms\n",
      "0: 736x1280 (no detections), 156.0ms\n",
      "0: 736x1280 (no detections), 128.0ms\n",
      "0: 736x1280 (no detections), 47.0ms\n",
      "0: 736x1280 (no detections), 49.0ms\n",
      "0: 736x1280 (no detections), 276.0ms\n",
      "0: 736x1280 (no detections), 256.0ms\n",
      "0: 736x1280 (no detections), 52.0ms\n",
      "0: 736x1280 (no detections), 124.0ms\n",
      "0: 736x1280 (no detections), 171.0ms\n",
      "0: 736x1280 (no detections), 123.0ms\n",
      "0: 736x1280 (no detections), 240.0ms\n",
      "0: 736x1280 (no detections), 147.0ms\n",
      "0: 736x1280 (no detections), 183.0ms\n",
      "0: 736x1280 (no detections), 189.0ms\n",
      "0: 736x1280 (no detections), 97.0ms\n",
      "0: 736x1280 (no detections), 83.0ms\n",
      "0: 736x1280 (no detections), 226.0ms\n",
      "0: 736x1280 (no detections), 223.0ms\n",
      "0: 736x1280 (no detections), 131.0ms\n",
      "0: 736x1280 (no detections), 353.0ms\n",
      "0: 736x1280 (no detections), 188.0ms\n",
      "0: 736x1280 (no detections), 262.0ms\n",
      "0: 736x1280 (no detections), 267.0ms\n",
      "0: 736x1280 1 4_2_3, 177.0ms\n",
      "0: 736x1280 (no detections), 202.0ms\n",
      "0: 736x1280 (no detections), 182.0ms\n",
      "0: 736x1280 (no detections), 179.0ms\n",
      "0: 736x1280 (no detections), 184.0ms\n",
      "0: 736x1280 (no detections), 52.0ms\n",
      "0: 736x1280 (no detections), 191.0ms\n",
      "0: 736x1280 (no detections), 253.0ms\n",
      "0: 736x1280 (no detections), 144.0ms\n",
      "0: 736x1280 (no detections), 146.0ms\n",
      "0: 736x1280 (no detections), 48.0ms\n",
      "0: 736x1280 (no detections), 51.0ms\n",
      "0: 736x1280 (no detections), 47.0ms\n",
      "0: 736x1280 (no detections), 195.0ms\n",
      "0: 736x1280 (no detections), 55.0ms\n",
      "0: 736x1280 (no detections), 235.0ms\n",
      "0: 736x1280 (no detections), 49.0ms\n",
      "0: 736x1280 (no detections), 101.0ms\n",
      "0: 736x1280 (no detections), 152.0ms\n",
      "0: 736x1280 (no detections), 154.0ms\n",
      "0: 736x1280 (no detections), 112.0ms\n",
      "0: 736x1280 (no detections), 51.0ms\n",
      "0: 736x1280 (no detections), 47.0ms\n",
      "0: 736x1280 (no detections), 192.0ms\n",
      "0: 736x1280 (no detections), 128.0ms\n",
      "0: 736x1280 (no detections), 134.0ms\n",
      "0: 736x1280 (no detections), 59.0ms\n",
      "0: 736x1280 (no detections), 109.0ms\n",
      "0: 736x1280 (no detections), 124.0ms\n",
      "0: 736x1280 (no detections), 111.0ms\n",
      "0: 736x1280 (no detections), 224.0ms\n",
      "0: 736x1280 (no detections), 149.0ms\n",
      "0: 736x1280 (no detections), 196.0ms\n",
      "0: 736x1280 (no detections), 122.0ms\n",
      "0: 736x1280 (no detections), 207.0ms\n",
      "0: 736x1280 (no detections), 50.0ms\n",
      "0: 736x1280 (no detections), 170.0ms\n",
      "0: 736x1280 (no detections), 144.0ms\n",
      "0: 736x1280 (no detections), 293.0ms\n",
      "0: 736x1280 (no detections), 165.0ms\n",
      "0: 736x1280 (no detections), 185.0ms\n",
      "0: 736x1280 (no detections), 62.0ms\n",
      "0: 736x1280 (no detections), 56.0ms\n",
      "0: 736x1280 (no detections), 115.0ms\n",
      "0: 736x1280 (no detections), 275.0ms\n",
      "0: 736x1280 (no detections), 146.0ms\n",
      "0: 736x1280 (no detections), 236.0ms\n",
      "0: 736x1280 (no detections), 304.0ms\n",
      "0: 736x1280 (no detections), 395.0ms\n",
      "0: 736x1280 (no detections), 178.0ms\n",
      "0: 736x1280 (no detections), 180.0ms\n",
      "0: 736x1280 (no detections), 176.0ms\n",
      "0: 736x1280 (no detections), 136.0ms\n",
      "0: 736x1280 (no detections), 148.0ms\n",
      "0: 736x1280 (no detections), 127.0ms\n",
      "0: 736x1280 (no detections), 133.0ms\n",
      "0: 736x1280 (no detections), 147.0ms\n",
      "0: 736x1280 (no detections), 249.0ms\n",
      "0: 736x1280 (no detections), 26.0ms\n",
      "0: 736x1280 (no detections), 223.0ms\n",
      "0: 736x1280 (no detections), 48.0ms\n",
      "0: 736x1280 (no detections), 136.0ms\n",
      "0: 736x1280 (no detections), 62.0ms\n",
      "0: 736x1280 (no detections), 143.0ms\n",
      "0: 736x1280 (no detections), 174.0ms\n",
      "0: 736x1280 (no detections), 65.0ms\n",
      "0: 736x1280 (no detections), 35.0ms\n",
      "0: 736x1280 (no detections), 29.0ms\n",
      "0: 736x1280 (no detections), 34.0ms\n",
      "0: 736x1280 (no detections), 29.0ms\n",
      "0: 736x1280 1 2_1, 32.0ms\n",
      "0: 736x1280 (no detections), 87.0ms\n",
      "0: 736x1280 (no detections), 98.0ms\n",
      "0: 736x1280 (no detections), 148.0ms\n",
      "0: 736x1280 1 2_1, 158.0ms\n",
      "0: 736x1280 (no detections), 176.0ms\n",
      "0: 736x1280 (no detections), 180.0ms\n",
      "0: 736x1280 (no detections), 74.0ms\n",
      "0: 736x1280 1 3_24, 1 2_4, 26.0ms\n",
      "0: 736x1280 (no detections), 125.0ms\n",
      "0: 736x1280 (no detections), 91.0ms\n",
      "0: 736x1280 (no detections), 121.0ms\n",
      "0: 736x1280 (no detections), 270.0ms\n",
      "0: 736x1280 (no detections), 134.0ms\n",
      "0: 736x1280 1 1_23, 311.0ms\n",
      "0: 736x1280 (no detections), 112.0ms\n",
      "0: 736x1280 (no detections), 214.0ms\n",
      "0: 736x1280 (no detections), 73.0ms\n",
      "0: 736x1280 (no detections), 73.0ms\n",
      "0: 736x1280 (no detections), 132.0ms\n",
      "0: 736x1280 (no detections), 218.0ms\n",
      "0: 736x1280 (no detections), 150.0ms\n",
      "0: 736x1280 (no detections), 125.0ms\n",
      "0: 736x1280 (no detections), 114.0ms\n",
      "0: 736x1280 (no detections), 97.0ms\n",
      "0: 736x1280 (no detections), 123.0ms\n",
      "0: 736x1280 (no detections), 124.0ms\n",
      "0: 736x1280 (no detections), 173.0ms\n",
      "0: 736x1280 (no detections), 51.0ms\n",
      "0: 736x1280 (no detections), 359.0ms\n",
      "0: 736x1280 (no detections), 181.0ms\n",
      "0: 736x1280 (no detections), 118.0ms\n",
      "0: 736x1280 (no detections), 67.0ms\n",
      "0: 736x1280 (no detections), 115.0ms\n",
      "0: 736x1280 (no detections), 179.0ms\n",
      "0: 736x1280 (no detections), 298.0ms\n",
      "0: 736x1280 (no detections), 306.0ms\n",
      "0: 736x1280 (no detections), 225.0ms\n",
      "0: 736x1280 (no detections), 174.0ms\n",
      "0: 736x1280 (no detections), 181.0ms\n",
      "0: 736x1280 (no detections), 161.0ms\n",
      "0: 736x1280 (no detections), 176.0ms\n",
      "0: 736x1280 (no detections), 305.0ms\n",
      "0: 736x1280 (no detections), 234.0ms\n",
      "0: 736x1280 (no detections), 201.0ms\n",
      "0: 736x1280 (no detections), 184.0ms\n",
      "0: 736x1280 (no detections), 306.0ms\n",
      "0: 736x1280 (no detections), 88.0ms\n",
      "0: 736x1280 (no detections), 419.0ms\n",
      "0: 736x1280 (no detections), 199.0ms\n",
      "0: 736x1280 (no detections), 184.0ms\n",
      "0: 736x1280 (no detections), 160.0ms\n",
      "0: 736x1280 (no detections), 122.0ms\n",
      "0: 736x1280 (no detections), 162.9ms\n",
      "0: 736x1280 (no detections), 119.0ms\n",
      "0: 736x1280 (no detections), 60.0ms\n",
      "0: 736x1280 (no detections), 170.0ms\n",
      "0: 736x1280 (no detections), 204.0ms\n",
      "0: 736x1280 (no detections), 147.0ms\n",
      "0: 736x1280 (no detections), 260.0ms\n",
      "0: 736x1280 (no detections), 167.0ms\n",
      "0: 736x1280 (no detections), 329.0ms\n",
      "0: 736x1280 (no detections), 209.0ms\n"
     ]
    },
    {
     "name": "stderr",
     "output_type": "stream",
     "text": [
      "0: 736x1280 (no detections), 226.0ms\n",
      "0: 736x1280 (no detections), 227.0ms\n",
      "0: 736x1280 1 2_1, 33.0ms\n",
      "0: 736x1280 (no detections), 84.0ms\n",
      "0: 736x1280 (no detections), 63.0ms\n",
      "0: 736x1280 (no detections), 75.0ms\n",
      "0: 736x1280 (no detections), 241.0ms\n",
      "0: 736x1280 (no detections), 160.0ms\n",
      "0: 736x1280 (no detections), 188.0ms\n",
      "0: 736x1280 (no detections), 199.0ms\n",
      "0: 736x1280 1 2_1, 2 5_19_1s, 1 4_1_1, 108.0ms\n",
      "0: 736x1280 1 2_1, 1 3_24, 170.0ms\n",
      "0: 736x1280 (no detections), 174.0ms\n",
      "0: 736x1280 (no detections), 75.0ms\n",
      "0: 736x1280 (no detections), 50.0ms\n",
      "0: 736x1280 1 1_23, 31.0ms\n",
      "0: 736x1280 (no detections), 52.0ms\n",
      "0: 736x1280 (no detections), 90.0ms\n",
      "0: 736x1280 (no detections), 34.0ms\n",
      "0: 736x1280 (no detections), 30.0ms\n",
      "0: 736x1280 (no detections), 66.0ms\n",
      "0: 736x1280 (no detections), 36.0ms\n",
      "0: 736x1280 (no detections), 115.0ms\n",
      "WARNING  Video stream unresponsive, please check your IP camera connection.\n",
      "0: 736x1280 (no detections), 80.0ms\n",
      "0: 736x1280 (no detections), 64.0ms\n",
      "0: 736x1280 (no detections), 65.0ms\n",
      "0: 736x1280 (no detections), 113.0ms\n",
      "0: 736x1280 (no detections), 74.0ms\n",
      "0: 736x1280 (no detections), 81.0ms\n",
      "0: 736x1280 (no detections), 103.0ms\n",
      "0: 736x1280 (no detections), 114.0ms\n",
      "0: 736x1280 (no detections), 116.0ms\n",
      "0: 736x1280 (no detections), 164.0ms\n",
      "0: 736x1280 1 2_5, 115.0ms\n",
      "0: 736x1280 (no detections), 116.0ms\n",
      "0: 736x1280 (no detections), 119.0ms\n",
      "0: 736x1280 (no detections), 188.0ms\n",
      "0: 736x1280 (no detections), 127.0ms\n",
      "0: 736x1280 (no detections), 130.0ms\n",
      "0: 736x1280 (no detections), 150.0ms\n",
      "0: 736x1280 (no detections), 49.0ms\n",
      "0: 736x1280 (no detections), 208.0ms\n",
      "0: 736x1280 (no detections), 174.0ms\n",
      "0: 736x1280 (no detections), 121.0ms\n",
      "0: 736x1280 (no detections), 214.0ms\n",
      "0: 736x1280 (no detections), 214.0ms\n",
      "0: 736x1280 (no detections), 228.0ms\n",
      "0: 736x1280 (no detections), 200.0ms\n",
      "0: 736x1280 (no detections), 181.0ms\n",
      "0: 736x1280 (no detections), 158.0ms\n",
      "0: 736x1280 (no detections), 73.0ms\n",
      "0: 736x1280 (no detections), 205.0ms\n",
      "0: 736x1280 1 1_23, 152.0ms\n",
      "0: 736x1280 (no detections), 141.0ms\n",
      "0: 736x1280 (no detections), 151.0ms\n",
      "0: 736x1280 1 4_2_1, 188.0ms\n",
      "0: 736x1280 (no detections), 178.0ms\n",
      "0: 736x1280 1 2_4, 1 3_27, 130.0ms\n",
      "0: 736x1280 (no detections), 142.0ms\n",
      "0: 736x1280 (no detections), 141.0ms\n",
      "0: 736x1280 1 2_1, 53.0ms\n",
      "0: 736x1280 1 2_1, 147.0ms\n",
      "0: 736x1280 1 5_19_1, 151.0ms\n",
      "0: 736x1280 (no detections), 126.0ms\n",
      "0: 736x1280 1 5_19_1, 1 2_4, 182.0ms\n",
      "0: 736x1280 1 1_23, 2 5_19_1s, 1 1_22, 122.0ms\n",
      "0: 736x1280 (no detections), 185.0ms\n",
      "Speed: 164.9ms preprocess, 154.0ms inference, 22.6ms postprocess per image at shape (1, 3, 736, 1280)\n",
      "Results saved to \u001b[1mruns\\detect\\predict\u001b[0m\n"
     ]
    }
   ],
   "source": [
    "import cv2\n",
    "\n",
    "results = model(source='https://www.youtube.com/watch?v=DMXmKg6thHo', save=True)\n",
    "\n",
    "#results = model.track(source='https://www.youtube.com/watch?v=DMXmKg6thHo', show=True, imgsz=(640,480))\n",
    "#annotated_frame = results[0].plot()\n",
    "#cv2.imshow(\"YOLOv8 Tracking\", annotated_frame)\n",
    "#if cv2.waitKey(1) & 0xFF == ord(\"q\"):\n",
    "#    break\n",
    "#cv2.destroyAllWindows()"
   ]
  },
  {
   "cell_type": "code",
   "execution_count": 40,
   "metadata": {},
   "outputs": [],
   "source": [
    "cv2.destroyAllWindows()"
   ]
  },
  {
   "cell_type": "code",
   "execution_count": 25,
   "metadata": {},
   "outputs": [],
   "source": [
    "annotated_frame = results[0].plot()\n",
    "#cv2.imshow(\"YOLOv8 Tracking\", annotated_frame)"
   ]
  },
  {
   "cell_type": "code",
   "execution_count": 29,
   "metadata": {},
   "outputs": [
    {
     "name": "stderr",
     "output_type": "stream",
     "text": [
      "WARNING  Video stream unresponsive, please check your IP camera connection.\n",
      "WARNING  Video stream unresponsive, please check your IP camera connection.\n",
      "WARNING  Video stream unresponsive, please check your IP camera connection.\n",
      "WARNING  Video stream unresponsive, please check your IP camera connection.\n",
      "WARNING  Video stream unresponsive, please check your IP camera connection.\n",
      "WARNING  Video stream unresponsive, please check your IP camera connection.\n",
      "WARNING  Video stream unresponsive, please check your IP camera connection.\n",
      "WARNING  Video stream unresponsive, please check your IP camera connection.\n",
      "WARNING  Video stream unresponsive, please check your IP camera connection.\n",
      "WARNING  Video stream unresponsive, please check your IP camera connection.\n",
      "WARNING  Video stream unresponsive, please check your IP camera connection.\n",
      "WARNING  Video stream unresponsive, please check your IP camera connection.\n",
      "WARNING  Video stream unresponsive, please check your IP camera connection.\n",
      "WARNING  Video stream unresponsive, please check your IP camera connection.\n",
      "WARNING  Video stream unresponsive, please check your IP camera connection.\n",
      "WARNING  Video stream unresponsive, please check your IP camera connection.\n",
      "WARNING  Video stream unresponsive, please check your IP camera connection.\n",
      "WARNING  Video stream unresponsive, please check your IP camera connection.\n",
      "WARNING  Video stream unresponsive, please check your IP camera connection.\n",
      "WARNING  Video stream unresponsive, please check your IP camera connection.\n",
      "WARNING  Video stream unresponsive, please check your IP camera connection.\n",
      "WARNING  Video stream unresponsive, please check your IP camera connection.\n",
      "WARNING  Video stream unresponsive, please check your IP camera connection.\n"
     ]
    }
   ],
   "source": [
    "from PIL import Image\n",
    "\n",
    "i=0\n",
    "for r in results:\n",
    "    im_array = r.plot()  # plot a BGR numpy array of predictions\n",
    "    im = Image.fromarray(im_array[..., ::-1])  # RGB PIL image\n",
    "    fname = 'res_' + str(i) + '.jpg'\n",
    "    im.save(fname)  # save image\n",
    "    i+=1"
   ]
  },
  {
   "cell_type": "code",
   "execution_count": 39,
   "metadata": {},
   "outputs": [
    {
     "name": "stderr",
     "output_type": "stream",
     "text": [
      "WARNING  Video stream unresponsive, please check your IP camera connection.\n",
      "WARNING  Video stream unresponsive, please check your IP camera connection.\n",
      "WARNING  Video stream unresponsive, please check your IP camera connection.\n"
     ]
    }
   ],
   "source": [
    "for i, r in enumerate(results):\n",
    "    if len(r.boxes.cls)!=0:\n",
    "        im_array = r.plot()  # plot a BGR numpy array of predictions\n",
    "        im = Image.fromarray(im_array[..., ::-1])  # RGB PIL image\n",
    "        fname = 'res_' + str(i) + '.jpg'\n",
    "        im.save(fname)  # save image\n",
    "        "
   ]
  },
  {
   "cell_type": "markdown",
   "metadata": {},
   "source": [
    "# convert"
   ]
  },
  {
   "cell_type": "code",
   "execution_count": 41,
   "metadata": {},
   "outputs": [
    {
     "name": "stderr",
     "output_type": "stream",
     "text": [
      "Ultralytics YOLOv8.0.209  Python-3.9.13 torch-2.1.0+cu121 CPU (AMD Phenom(tm) II X6 1055T Processor)\n",
      "WARNING  half=True only compatible with GPU export, i.e. use device=0\n",
      "\n",
      "\u001b[34m\u001b[1mPyTorch:\u001b[0m starting from 'last.pt' with input shape (1, 3, 1280, 1280) BCHW and output shape(s) (1, 159, 33600) (26.1 MB)\n",
      "\u001b[31m\u001b[1mrequirements:\u001b[0m Ultralytics requirement ['onnx>=1.12.0'] not found, attempting AutoUpdate...\n",
      "Collecting onnx>=1.12.0\n",
      "  Obtaining dependency information for onnx>=1.12.0 from https://files.pythonhosted.org/packages/b8/d9/39382887c8fb4330a8372739a9534b6734c18012f18726f024d9cae40e96/onnx-1.15.0-cp39-cp39-win_amd64.whl.metadata\n",
      "  Downloading onnx-1.15.0-cp39-cp39-win_amd64.whl.metadata (15 kB)\n",
      "Requirement already satisfied: numpy in c:\\anaconda3\\lib\\site-packages (from onnx>=1.12.0) (1.24.4)\n",
      "Requirement already satisfied: protobuf>=3.20.2 in c:\\anaconda3\\lib\\site-packages (from onnx>=1.12.0) (3.20.3)\n",
      "Downloading onnx-1.15.0-cp39-cp39-win_amd64.whl (14.3 MB)\n",
      "   ---------------------------------------- 14.3/14.3 MB 11.9 MB/s eta 0:00:00\n",
      "Installing collected packages: onnx\n",
      "Successfully installed onnx-1.15.0\n",
      "\n",
      "\u001b[31m\u001b[1mrequirements:\u001b[0m AutoUpdate success  42.4s, installed 1 package: ['onnx>=1.12.0']\n",
      "\u001b[31m\u001b[1mrequirements:\u001b[0m  \u001b[1mRestart runtime or rerun command for updates to take effect\u001b[0m\n",
      "\n",
      "\n",
      "\u001b[34m\u001b[1mONNX:\u001b[0m starting export with onnx 1.15.0 opset 17...\n",
      "\u001b[34m\u001b[1mONNX:\u001b[0m export success  51.3s, saved as 'last.onnx' (13.5 MB)\n",
      "\n",
      "Export complete (66.9s)\n",
      "Results saved to \u001b[1mD:\\\\1 \\   \u001b[0m\n",
      "Predict:         yolo predict task=detect model=last.onnx imgsz=1280  \n",
      "Validate:        yolo val task=detect model=last.onnx imgsz=1280 data=/kaggle/input/trafic-signs-yaml/trafic_signs.yaml  \n",
      "Visualize:       https://netron.app\n"
     ]
    },
    {
     "data": {
      "text/plain": [
       "'last.onnx'"
      ]
     },
     "execution_count": 41,
     "metadata": {},
     "output_type": "execute_result"
    }
   ],
   "source": [
    "model.export(format='onnx', half=True)"
   ]
  },
  {
   "cell_type": "code",
   "execution_count": 3,
   "metadata": {},
   "outputs": [
    {
     "name": "stderr",
     "output_type": "stream",
     "text": [
      "Ultralytics YOLOv8.0.209  Python-3.9.13 torch-2.1.0+cu121 CPU (AMD Phenom(tm) II X6 1055T Processor)\n",
      "Model summary (fused): 168 layers, 3357389 parameters, 0 gradients, 9.7 GFLOPs\n",
      "\n",
      "\u001b[34m\u001b[1mPyTorch:\u001b[0m starting from 'last.pt' with input shape (1, 3, 1280, 1280) BCHW and output shape(s) (1, 159, 33600) (26.1 MB)\n",
      "\n",
      "\u001b[34m\u001b[1mTorchScript:\u001b[0m starting export with torch 2.1.0+cu121...\n",
      "\u001b[34m\u001b[1mTorchScript:\u001b[0m export success  50.2s, saved as 'last.torchscript' (13.5 MB)\n",
      "\n",
      "\u001b[34m\u001b[1mncnn:\u001b[0m starting export with ncnn 1.0.20231027...\n",
      "\u001b[34m\u001b[1mncnn:\u001b[0m running 'C:\\anaconda3\\Lib\\site-packages\\ultralytics\\pnnx.exe last.torchscript ncnnparam=last_ncnn_model\\model.ncnn.param ncnnbin=last_ncnn_model\\model.ncnn.bin ncnnpy=last_ncnn_model\\model_ncnn.py pnnxparam=last_ncnn_model\\model.pnnx.param pnnxbin=last_ncnn_model\\model.pnnx.bin pnnxpy=last_ncnn_model\\model_pnnx.py pnnxonnx=last_ncnn_model\\model.pnnx.onnx fp16=0 device=cpu inputshape=\"[1, 3, 1280, 1280]\"'\n",
      "\u001b[34m\u001b[1mncnn:\u001b[0m export success  9.5s, saved as 'last_ncnn_model' (13.5 MB)\n",
      "\n",
      "Export complete (79.2s)\n",
      "Results saved to \u001b[1mD:\\\\1 \\   \u001b[0m\n",
      "Predict:         yolo predict task=detect model=last_ncnn_model imgsz=1280  \n",
      "Validate:        yolo val task=detect model=last_ncnn_model imgsz=1280 data=/kaggle/input/trafic-signs-yaml/trafic_signs.yaml  \n",
      "Visualize:       https://netron.app\n"
     ]
    },
    {
     "data": {
      "text/plain": [
       "'last_ncnn_model'"
      ]
     },
     "execution_count": 3,
     "metadata": {},
     "output_type": "execute_result"
    }
   ],
   "source": [
    "model.export(format='ncnn')"
   ]
  },
  {
   "cell_type": "code",
   "execution_count": null,
   "metadata": {},
   "outputs": [
    {
     "name": "stderr",
     "output_type": "stream",
     "text": [
      "Ultralytics YOLOv8.0.209  Python-3.9.13 torch-2.1.0+cu121 CPU (AMD Phenom(tm) II X6 1055T Processor)\n",
      "Model summary (fused): 168 layers, 3357389 parameters, 0 gradients, 9.7 GFLOPs\n",
      "\n",
      "\u001b[34m\u001b[1mPyTorch:\u001b[0m starting from 'last.pt' with input shape (1, 3, 1280, 1280) BCHW and output shape(s) (1, 159, 33600) (26.1 MB)\n",
      "\n",
      "\u001b[34m\u001b[1mTensorFlow SavedModel:\u001b[0m starting export with tensorflow 2.10.1...\n",
      "\n",
      "\u001b[34m\u001b[1mONNX:\u001b[0m starting export with onnx 1.15.0 opset 17...\n",
      "\u001b[34m\u001b[1mONNX:\u001b[0m simplifying with onnxsim 0.4.35...\n",
      "\u001b[34m\u001b[1mONNX:\u001b[0m export success  29.3s, saved as 'last.onnx' (13.3 MB)\n",
      "\u001b[34m\u001b[1mTensorFlow SavedModel:\u001b[0m running 'onnx2tf -i \"last.onnx\" -o \"last_saved_model\" -nuo --non_verbose'\n"
     ]
    }
   ],
   "source": [
    "model.export(format='tflite')"
   ]
  },
  {
   "cell_type": "code",
   "execution_count": 10,
   "metadata": {},
   "outputs": [
    {
     "ename": "AttributeError",
     "evalue": "'AutoShape' object has no attribute 'export'",
     "output_type": "error",
     "traceback": [
      "\u001b[1;31m---------------------------------------------------------------------------\u001b[0m",
      "\u001b[1;31mAttributeError\u001b[0m                            Traceback (most recent call last)",
      "\u001b[1;32m~\\AppData\\Local\\Temp\\ipykernel_14464\\2976200957.py\u001b[0m in \u001b[0;36m<module>\u001b[1;34m\u001b[0m\n\u001b[1;32m----> 1\u001b[1;33m \u001b[0mmodel\u001b[0m\u001b[1;33m.\u001b[0m\u001b[0mexport\u001b[0m\u001b[1;33m(\u001b[0m\u001b[0mformat\u001b[0m\u001b[1;33m=\u001b[0m\u001b[1;34m'torchscript'\u001b[0m\u001b[1;33m,\u001b[0m \u001b[0moptimize\u001b[0m\u001b[1;33m=\u001b[0m\u001b[1;32mTrue\u001b[0m\u001b[1;33m)\u001b[0m\u001b[1;33m\u001b[0m\u001b[1;33m\u001b[0m\u001b[0m\n\u001b[0m",
      "\u001b[1;32mC:\\anaconda3\\lib\\site-packages\\torch\\nn\\modules\\module.py\u001b[0m in \u001b[0;36m__getattr__\u001b[1;34m(self, name)\u001b[0m\n\u001b[0;32m   1693\u001b[0m             \u001b[1;32mif\u001b[0m \u001b[0mname\u001b[0m \u001b[1;32min\u001b[0m \u001b[0mmodules\u001b[0m\u001b[1;33m:\u001b[0m\u001b[1;33m\u001b[0m\u001b[1;33m\u001b[0m\u001b[0m\n\u001b[0;32m   1694\u001b[0m                 \u001b[1;32mreturn\u001b[0m \u001b[0mmodules\u001b[0m\u001b[1;33m[\u001b[0m\u001b[0mname\u001b[0m\u001b[1;33m]\u001b[0m\u001b[1;33m\u001b[0m\u001b[1;33m\u001b[0m\u001b[0m\n\u001b[1;32m-> 1695\u001b[1;33m         \u001b[1;32mraise\u001b[0m \u001b[0mAttributeError\u001b[0m\u001b[1;33m(\u001b[0m\u001b[1;34mf\"'{type(self).__name__}' object has no attribute '{name}'\"\u001b[0m\u001b[1;33m)\u001b[0m\u001b[1;33m\u001b[0m\u001b[1;33m\u001b[0m\u001b[0m\n\u001b[0m\u001b[0;32m   1696\u001b[0m \u001b[1;33m\u001b[0m\u001b[0m\n\u001b[0;32m   1697\u001b[0m     \u001b[1;32mdef\u001b[0m \u001b[0m__setattr__\u001b[0m\u001b[1;33m(\u001b[0m\u001b[0mself\u001b[0m\u001b[1;33m,\u001b[0m \u001b[0mname\u001b[0m\u001b[1;33m:\u001b[0m \u001b[0mstr\u001b[0m\u001b[1;33m,\u001b[0m \u001b[0mvalue\u001b[0m\u001b[1;33m:\u001b[0m \u001b[0mUnion\u001b[0m\u001b[1;33m[\u001b[0m\u001b[0mTensor\u001b[0m\u001b[1;33m,\u001b[0m \u001b[1;34m'Module'\u001b[0m\u001b[1;33m]\u001b[0m\u001b[1;33m)\u001b[0m \u001b[1;33m->\u001b[0m \u001b[1;32mNone\u001b[0m\u001b[1;33m:\u001b[0m\u001b[1;33m\u001b[0m\u001b[1;33m\u001b[0m\u001b[0m\n",
      "\u001b[1;31mAttributeError\u001b[0m: 'AutoShape' object has no attribute 'export'"
     ]
    }
   ],
   "source": [
    "model.export(format='torchscript', optimize=True)"
   ]
  },
  {
   "cell_type": "code",
   "execution_count": 10,
   "metadata": {},
   "outputs": [
    {
     "name": "stdout",
     "output_type": "stream",
     "text": [
      "mobile optimized model exported to last.torchscript.ptl\n"
     ]
    }
   ],
   "source": [
    "import torch\n",
    "\n",
    "from torch.utils.mobile_optimizer import optimize_for_mobile\n",
    "\n",
    "torchscript_model = \"last.torchscript\"\n",
    "export_model_name = \"last.torchscript.ptl\"\n",
    "\n",
    "model = torch.jit.load(torchscript_model)\n",
    "optimized_model = optimize_for_mobile(model)\n",
    "optimized_model._save_for_lite_interpreter(export_model_name)\n",
    "\n",
    "print(f\"mobile optimized model exported to {export_model_name}\")"
   ]
  },
  {
   "cell_type": "code",
   "execution_count": 12,
   "metadata": {},
   "outputs": [
    {
     "name": "stderr",
     "output_type": "stream",
     "text": [
      "Using cache found in C:\\Users\\basil/.cache\\torch\\hub\\ultralytics_yolov5_master\n",
      "\u001b[31m\u001b[1mrequirements:\u001b[0m Ultralytics requirement ['gitpython>=3.1.30'] not found, attempting AutoUpdate...\n",
      "Collecting gitpython>=3.1.30\n",
      "  Obtaining dependency information for gitpython>=3.1.30 from https://files.pythonhosted.org/packages/8d/c4/82b858fb6483dfb5e338123c154d19c043305b01726a67d89532b8f8f01b/GitPython-3.1.40-py3-none-any.whl.metadata\n",
      "  Downloading GitPython-3.1.40-py3-none-any.whl.metadata (12 kB)\n",
      "Collecting gitdb<5,>=4.0.1 (from gitpython>=3.1.30)\n",
      "  Obtaining dependency information for gitdb<5,>=4.0.1 from https://files.pythonhosted.org/packages/fd/5b/8f0c4a5bb9fd491c277c21eff7ccae71b47d43c4446c9d0c6cff2fe8c2c4/gitdb-4.0.11-py3-none-any.whl.metadata\n",
      "  Downloading gitdb-4.0.11-py3-none-any.whl.metadata (1.2 kB)\n",
      "Requirement already satisfied: smmap<6,>=3.0.1 in c:\\anaconda3\\lib\\site-packages (from gitdb<5,>=4.0.1->gitpython>=3.1.30) (5.0.1)\n",
      "Downloading GitPython-3.1.40-py3-none-any.whl (190 kB)\n",
      "   ---------------------------------------- 190.6/190.6 kB 2.3 MB/s eta 0:00:00\n",
      "Downloading gitdb-4.0.11-py3-none-any.whl (62 kB)\n",
      "   ---------------------------------------- 62.7/62.7 kB ? eta 0:00:00\n",
      "Installing collected packages: gitdb, gitpython\n",
      "Successfully installed gitdb-4.0.11 gitpython-3.1.40\n",
      "\n",
      "\u001b[31m\u001b[1mrequirements:\u001b[0m AutoUpdate success  13.3s, installed 1 package: ['gitpython>=3.1.30']\n",
      "\u001b[31m\u001b[1mrequirements:\u001b[0m  \u001b[1mRestart runtime or rerun command for updates to take effect\u001b[0m\n",
      "\n",
      "YOLOv5  2023-11-17 Python-3.9.13 torch-2.1.0+cu121 CUDA:0 (NVIDIA GeForce RTX 3060, 12287MiB)\n",
      "\n",
      "Fusing layers... \n",
      "YOLOv5s summary: 213 layers, 7225885 parameters, 0 gradients, 16.4 GFLOPs\n",
      "Adding AutoShape... \n"
     ]
    }
   ],
   "source": [
    "model = torch.hub.load('ultralytics/yolov5', 'yolov5s')"
   ]
  },
  {
   "cell_type": "code",
   "execution_count": 14,
   "metadata": {},
   "outputs": [
    {
     "data": {
      "text/plain": [
       "<git.repo.base.Repo 'C:\\\\git\\\\yolo_v5\\\\.git'>"
      ]
     },
     "execution_count": 14,
     "metadata": {},
     "output_type": "execute_result"
    }
   ],
   "source": [
    "import git\n",
    "git.Repo.clone_from('https://github.com/ultralytics/yolov5', '/git/yolo_v5')"
   ]
  },
  {
   "cell_type": "code",
   "execution_count": 20,
   "metadata": {},
   "outputs": [
    {
     "name": "stderr",
     "output_type": "stream",
     "text": [
      "\u001b[34m\u001b[1mexport: \u001b[0mdata=C:\\git\\yolo_v5\\data\\coco128.yaml, weights=['best_y5.pt'], imgsz=[640, 640], batch_size=1, device=cpu, half=False, inplace=False, keras=False, optimize=False, int8=False, dynamic=False, simplify=False, opset=17, verbose=False, workspace=4, nms=False, agnostic_nms=False, topk_per_class=100, topk_all=100, iou_thres=0.45, conf_thres=0.25, include=['torchscript']\n",
      "YOLOv5  v7.0-241-gb6a65e1 Python-3.9.13 torch-2.1.0+cu121 CPU\n",
      "\n",
      "Fusing layers... \n",
      "Model summary: 157 layers, 7428160 parameters, 0 gradients, 17.1 GFLOPs\n",
      "\n",
      "\u001b[34m\u001b[1mPyTorch:\u001b[0m starting from best_y5.pt with output shape (1, 25200, 160) (14.5 MB)\n",
      "\n",
      "\u001b[34m\u001b[1mTorchScript:\u001b[0m starting export with torch 2.1.0+cu121...\n",
      "\u001b[34m\u001b[1mTorchScript:\u001b[0m export success  16.1s, saved as best_y5.torchscript (28.8 MB)\n",
      "\n",
      "Export complete (22.1s)\n",
      "Results saved to \u001b[1mD:\\\\1 \\   \u001b[0m\n",
      "Detect:          python detect.py --weights best_y5.torchscript \n",
      "Validate:        python val.py --weights best_y5.torchscript \n",
      "PyTorch Hub:     model = torch.hub.load('ultralytics/yolov5', 'custom', 'best_y5.torchscript')  \n",
      "Visualize:       https://netron.app\n"
     ]
    }
   ],
   "source": [
    "!python c:\\\\git\\\\yolo_v5\\\\export.py --weights best_y5.pt --include torchscript"
   ]
  },
  {
   "cell_type": "code",
   "execution_count": 21,
   "metadata": {},
   "outputs": [
    {
     "name": "stdout",
     "output_type": "stream",
     "text": [
      "mobile optimized model exported to best_y5.torchscript.ptl\n"
     ]
    }
   ],
   "source": [
    "import torch\n",
    "\n",
    "from torch.utils.mobile_optimizer import optimize_for_mobile\n",
    "\n",
    "torchscript_model = \"best_y5.torchscript\"\n",
    "export_model_name = \"best_y5.torchscript.ptl\"\n",
    "\n",
    "model = torch.jit.load(torchscript_model)\n",
    "optimized_model = optimize_for_mobile(model)\n",
    "optimized_model._save_for_lite_interpreter(export_model_name)\n",
    "\n",
    "print(f\"mobile optimized model exported to {export_model_name}\")"
   ]
  },
  {
   "cell_type": "code",
   "execution_count": null,
   "metadata": {},
   "outputs": [],
   "source": []
  }
 ],
 "metadata": {
  "kernelspec": {
   "display_name": "Python 3 (ipykernel)",
   "language": "python",
   "name": "python3"
  },
  "language_info": {
   "codemirror_mode": {
    "name": "ipython",
    "version": 3
   },
   "file_extension": ".py",
   "mimetype": "text/x-python",
   "name": "python",
   "nbconvert_exporter": "python",
   "pygments_lexer": "ipython3",
   "version": "3.9.13"
  }
 },
 "nbformat": 4,
 "nbformat_minor": 4
}
